{
 "cells": [
  {
   "cell_type": "code",
   "execution_count": 16,
   "metadata": {},
   "outputs": [],
   "source": [
    "from utils.spiders import compress_csv, retrieve_block_logs_year, retrieve_block_logs_month"
   ]
  },
  {
   "cell_type": "code",
   "execution_count": 14,
   "metadata": {},
   "outputs": [],
   "source": [
    "year = 2023\n",
    "file_path = f'data/block_logs/{year}/{year}'"
   ]
  },
  {
   "cell_type": "code",
   "execution_count": 15,
   "metadata": {},
   "outputs": [],
   "source": [
    "for i in range(1, 7, 1):\n",
    "    compress_csv(f'{file_path}-{i:02d}.csv')"
   ]
  },
  {
   "cell_type": "code",
   "execution_count": 17,
   "metadata": {},
   "outputs": [
    {
     "name": "stdout",
     "output_type": "stream",
     "text": [
      "0 records retrieved.\n",
      "Retrieval complete for logs between 2004-01-01T00:00:00Z and 2004-02-01T00:00:00Z.\n",
      "0 records retrieved.\n",
      "0 records retrieved.\n",
      "Retrieval complete for logs between 2004-02-01T00:00:00Z and 2004-03-01T00:00:00Z.\n",
      "0 records retrieved.\n",
      "0 records retrieved.\n",
      "Retrieval complete for logs between 2004-03-01T00:00:00Z and 2004-04-01T00:00:00Z.\n",
      "0 records retrieved.\n",
      "0 records retrieved.\n",
      "Retrieval complete for logs between 2004-04-01T00:00:00Z and 2004-05-01T00:00:00Z.\n",
      "0 records retrieved.\n",
      "0 records retrieved.\n",
      "Retrieval complete for logs between 2004-05-01T00:00:00Z and 2004-06-01T00:00:00Z.\n",
      "0 records retrieved.\n",
      "0 records retrieved.\n",
      "Retrieval complete for logs between 2004-06-01T00:00:00Z and 2004-07-01T00:00:00Z.\n",
      "0 records retrieved.\n",
      "0 records retrieved.\n",
      "Retrieval complete for logs between 2004-07-01T00:00:00Z and 2004-08-01T00:00:00Z.\n",
      "0 records retrieved.\n",
      "0 records retrieved.\n",
      "Retrieval complete for logs between 2004-08-01T00:00:00Z and 2004-09-01T00:00:00Z.\n",
      "0 records retrieved.\n",
      "0 records retrieved.\n",
      "Retrieval complete for logs between 2004-09-01T00:00:00Z and 2004-10-01T00:00:00Z.\n",
      "0 records retrieved.\n",
      "0 records retrieved.\n",
      "Retrieval complete for logs between 2004-10-01T00:00:00Z and 2004-11-01T00:00:00Z.\n",
      "0 records retrieved.\n",
      "0 records retrieved.\n",
      "Retrieval complete for logs between 2004-11-01T00:00:00Z and 2004-12-01T00:00:00Z.\n",
      "0 records retrieved.\n",
      "500 records retrieved.\n",
      "Search with continue index: 20041227230119|5178, 340 records retrieved.\n",
      "Retrieval complete for logs between 2004-12-01T00:00:00Z and 2005-01-01T00:00:00Z.\n",
      "840 records retrieved.\n"
     ]
    }
   ],
   "source": [
    "for i in range(5, 13, 1):\n",
    "    retrieve_block_logs_month(year=2006, folder_path='data/block_logs/', month=i, compress=True)"
   ]
  }
 ],
 "metadata": {
  "kernelspec": {
   "display_name": "Python 3",
   "language": "python",
   "name": "python3"
  },
  "language_info": {
   "codemirror_mode": {
    "name": "ipython",
    "version": 3
   },
   "file_extension": ".py",
   "mimetype": "text/x-python",
   "name": "python",
   "nbconvert_exporter": "python",
   "pygments_lexer": "ipython3",
   "version": "3.11.6"
  }
 },
 "nbformat": 4,
 "nbformat_minor": 2
}
