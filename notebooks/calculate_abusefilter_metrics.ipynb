{
 "cells": [
  {
   "cell_type": "markdown",
   "metadata": {},
   "source": [
    "# Introduction"
   ]
  },
  {
   "cell_type": "markdown",
   "metadata": {},
   "source": [
    "This notebook explains how I calculate the metrics based on abusefilter log queries. "
   ]
  },
  {
   "cell_type": "markdown",
   "metadata": {},
   "source": [
    "## Set up the environment and import constants"
   ]
  },
  {
   "cell_type": "code",
   "execution_count": 1,
   "metadata": {},
   "outputs": [],
   "source": [
    "# append system path to import utils\n",
    "import sys\n",
    "sys.path.append('../')"
   ]
  },
  {
   "cell_type": "code",
   "execution_count": 2,
   "metadata": {},
   "outputs": [
    {
     "name": "stderr",
     "output_type": "stream",
     "text": [
      "/var/folders/7n/c_p139yj6jq0tctqpx0x_2rr0000gn/T/ipykernel_4209/748694261.py:2: DeprecationWarning: \n",
      "Pyarrow will become a required dependency of pandas in the next major release of pandas (pandas 3.0),\n",
      "(to allow more performant data types, such as the Arrow string type, and better interoperability with other libraries)\n",
      "but was not found to be installed on your system.\n",
      "If this would cause problems for you,\n",
      "please provide us feedback at https://github.com/pandas-dev/pandas/issues/54466\n",
      "        \n",
      "  import pandas as pd\n"
     ]
    }
   ],
   "source": [
    "import json\n",
    "import pandas as pd"
   ]
  },
  {
   "cell_type": "code",
   "execution_count": 3,
   "metadata": {},
   "outputs": [],
   "source": [
    "with open('../data/scraped_data_metrics/bot_names.json') as file:\n",
    "    bot_names = json.load(file)\n",
    "bot_names_series = pd.Series(bot_names)"
   ]
  },
  {
   "cell_type": "code",
   "execution_count": 15,
   "metadata": {},
   "outputs": [],
   "source": [
    "from utils.data_processing import file_iterator\n",
    "from utils.data_processing import check_ip_address"
   ]
  },
  {
   "cell_type": "markdown",
   "metadata": {},
   "source": [
    "# Code for calcualting abusefilter metrics"
   ]
  },
  {
   "cell_type": "code",
   "execution_count": 16,
   "metadata": {},
   "outputs": [],
   "source": [
    "# Set up parameters for data extraction \n",
    "dir_path = '../data/abusefilter_logs'\n",
    "extracted_columns = ['logid', 'title', 'action', 'user', 'type', 'pageid', 'action', 'user']"
   ]
  },
  {
   "cell_type": "code",
   "execution_count": 17,
   "metadata": {},
   "outputs": [],
   "source": [
    "# Define functions for cleaning dataframe\n",
    "def clean_df(df):\n",
    "    df = df.drop_duplicates()\n",
    "    # remove rows containing the column names\n",
    "    df = df[df['title']!='title']\n",
    "    # remove rows containing missing information on user/administrator names & action type\n",
    "    df = df[~df['title'].isna() & ~df['user'].isna() & ~df['action'].isna()]\n",
    "    # \n",
    "    df = df[df['type']=='abusefilter']\n",
    "    return df"
   ]
  },
  {
   "cell_type": "code",
   "execution_count": 18,
   "metadata": {},
   "outputs": [
    {
     "name": "stdout",
     "output_type": "stream",
     "text": [
      "File not found: ../data/abusefilter_logs/2009/2009-01.csv\n",
      "File not found: ../data/abusefilter_logs/2009/2009-01.csv.gz\n",
      "File not found: ../data/abusefilter_logs/2009/2009-02.csv\n",
      "File not found: ../data/abusefilter_logs/2009/2009-02.csv.gz\n",
      "Extracting: ../data/abusefilter_logs/2009/2009-03.csv\n",
      "Extracting: ../data/abusefilter_logs/2009/2009-04.csv\n",
      "Extracting: ../data/abusefilter_logs/2009/2009-05.csv\n",
      "Extracting: ../data/abusefilter_logs/2009/2009-06.csv\n",
      "Extracting: ../data/abusefilter_logs/2009/2009-07.csv\n",
      "Extracting: ../data/abusefilter_logs/2009/2009-08.csv\n",
      "Extracting: ../data/abusefilter_logs/2009/2009-09.csv\n",
      "Extracting: ../data/abusefilter_logs/2009/2009-10.csv\n",
      "Extracting: ../data/abusefilter_logs/2009/2009-11.csv\n",
      "Extracting: ../data/abusefilter_logs/2009/2009-12.csv\n",
      "Extracting: ../data/abusefilter_logs/2010/2010-01.csv\n",
      "Extracting: ../data/abusefilter_logs/2010/2010-02.csv\n",
      "Extracting: ../data/abusefilter_logs/2010/2010-03.csv\n",
      "Extracting: ../data/abusefilter_logs/2010/2010-04.csv\n",
      "Extracting: ../data/abusefilter_logs/2010/2010-05.csv\n",
      "Extracting: ../data/abusefilter_logs/2010/2010-06.csv\n",
      "Extracting: ../data/abusefilter_logs/2010/2010-07.csv\n",
      "Extracting: ../data/abusefilter_logs/2010/2010-08.csv\n",
      "Extracting: ../data/abusefilter_logs/2010/2010-09.csv\n",
      "Extracting: ../data/abusefilter_logs/2010/2010-10.csv\n",
      "Extracting: ../data/abusefilter_logs/2010/2010-11.csv\n"
     ]
    },
    {
     "name": "stdout",
     "output_type": "stream",
     "text": [
      "Extracting: ../data/abusefilter_logs/2010/2010-12.csv\n",
      "Extracting: ../data/abusefilter_logs/2011/2011-01.csv\n",
      "Extracting: ../data/abusefilter_logs/2011/2011-02.csv\n",
      "Extracting: ../data/abusefilter_logs/2011/2011-03.csv\n",
      "Extracting: ../data/abusefilter_logs/2011/2011-04.csv\n",
      "Extracting: ../data/abusefilter_logs/2011/2011-05.csv\n",
      "Extracting: ../data/abusefilter_logs/2011/2011-06.csv\n",
      "Extracting: ../data/abusefilter_logs/2011/2011-07.csv\n",
      "Extracting: ../data/abusefilter_logs/2011/2011-08.csv\n",
      "Extracting: ../data/abusefilter_logs/2011/2011-09.csv\n",
      "Extracting: ../data/abusefilter_logs/2011/2011-10.csv\n",
      "Extracting: ../data/abusefilter_logs/2011/2011-11.csv\n",
      "Extracting: ../data/abusefilter_logs/2011/2011-12.csv\n",
      "Extracting: ../data/abusefilter_logs/2012/2012-01.csv\n",
      "Extracting: ../data/abusefilter_logs/2012/2012-02.csv\n",
      "Extracting: ../data/abusefilter_logs/2012/2012-03.csv\n",
      "Extracting: ../data/abusefilter_logs/2012/2012-04.csv\n",
      "Extracting: ../data/abusefilter_logs/2012/2012-05.csv\n",
      "Extracting: ../data/abusefilter_logs/2012/2012-06.csv\n",
      "Extracting: ../data/abusefilter_logs/2012/2012-07.csv\n",
      "Extracting: ../data/abusefilter_logs/2012/2012-08.csv\n",
      "Extracting: ../data/abusefilter_logs/2012/2012-09.csv\n",
      "Extracting: ../data/abusefilter_logs/2012/2012-10.csv\n",
      "Extracting: ../data/abusefilter_logs/2012/2012-11.csv\n",
      "Extracting: ../data/abusefilter_logs/2012/2012-12.csv\n",
      "Extracting: ../data/abusefilter_logs/2013/2013-01.csv\n",
      "Extracting: ../data/abusefilter_logs/2013/2013-02.csv\n",
      "Extracting: ../data/abusefilter_logs/2013/2013-03.csv\n",
      "Extracting: ../data/abusefilter_logs/2013/2013-04.csv\n",
      "Extracting: ../data/abusefilter_logs/2013/2013-05.csv\n",
      "Extracting: ../data/abusefilter_logs/2013/2013-06.csv\n",
      "Extracting: ../data/abusefilter_logs/2013/2013-07.csv\n",
      "Extracting: ../data/abusefilter_logs/2013/2013-08.csv\n",
      "Extracting: ../data/abusefilter_logs/2013/2013-09.csv\n",
      "Extracting: ../data/abusefilter_logs/2013/2013-10.csv\n",
      "Extracting: ../data/abusefilter_logs/2013/2013-11.csv\n",
      "Extracting: ../data/abusefilter_logs/2013/2013-12.csv\n",
      "Extracting: ../data/abusefilter_logs/2014/2014-01.csv\n",
      "Extracting: ../data/abusefilter_logs/2014/2014-02.csv\n",
      "Extracting: ../data/abusefilter_logs/2014/2014-03.csv\n",
      "Extracting: ../data/abusefilter_logs/2014/2014-04.csv\n",
      "Extracting: ../data/abusefilter_logs/2014/2014-05.csv\n",
      "Extracting: ../data/abusefilter_logs/2014/2014-06.csv\n",
      "Extracting: ../data/abusefilter_logs/2014/2014-07.csv\n",
      "Extracting: ../data/abusefilter_logs/2014/2014-08.csv\n",
      "Extracting: ../data/abusefilter_logs/2014/2014-09.csv\n",
      "Extracting: ../data/abusefilter_logs/2014/2014-10.csv\n",
      "Extracting: ../data/abusefilter_logs/2014/2014-11.csv\n",
      "Extracting: ../data/abusefilter_logs/2014/2014-12.csv\n",
      "Extracting: ../data/abusefilter_logs/2015/2015-01.csv\n",
      "Extracting: ../data/abusefilter_logs/2015/2015-02.csv\n",
      "Extracting: ../data/abusefilter_logs/2015/2015-03.csv\n",
      "Extracting: ../data/abusefilter_logs/2015/2015-04.csv\n",
      "Extracting: ../data/abusefilter_logs/2015/2015-05.csv\n",
      "Extracting: ../data/abusefilter_logs/2015/2015-06.csv\n",
      "Extracting: ../data/abusefilter_logs/2015/2015-07.csv\n",
      "Extracting: ../data/abusefilter_logs/2015/2015-08.csv\n",
      "Extracting: ../data/abusefilter_logs/2015/2015-09.csv\n",
      "Extracting: ../data/abusefilter_logs/2015/2015-10.csv\n",
      "Extracting: ../data/abusefilter_logs/2015/2015-11.csv\n",
      "Extracting: ../data/abusefilter_logs/2015/2015-12.csv\n",
      "Extracting: ../data/abusefilter_logs/2016/2016-01.csv\n",
      "Extracting: ../data/abusefilter_logs/2016/2016-02.csv\n",
      "Extracting: ../data/abusefilter_logs/2016/2016-03.csv\n",
      "Extracting: ../data/abusefilter_logs/2016/2016-04.csv\n",
      "Extracting: ../data/abusefilter_logs/2016/2016-05.csv\n",
      "Extracting: ../data/abusefilter_logs/2016/2016-06.csv\n",
      "Extracting: ../data/abusefilter_logs/2016/2016-07.csv\n",
      "Extracting: ../data/abusefilter_logs/2016/2016-08.csv\n",
      "Extracting: ../data/abusefilter_logs/2016/2016-09.csv\n",
      "Extracting: ../data/abusefilter_logs/2016/2016-10.csv\n",
      "Extracting: ../data/abusefilter_logs/2016/2016-11.csv\n",
      "Extracting: ../data/abusefilter_logs/2016/2016-12.csv\n",
      "Extracting: ../data/abusefilter_logs/2017/2017-01.csv\n",
      "Extracting: ../data/abusefilter_logs/2017/2017-02.csv\n",
      "Extracting: ../data/abusefilter_logs/2017/2017-03.csv\n",
      "Extracting: ../data/abusefilter_logs/2017/2017-04.csv\n",
      "Extracting: ../data/abusefilter_logs/2017/2017-05.csv\n",
      "Extracting: ../data/abusefilter_logs/2017/2017-06.csv\n",
      "Extracting: ../data/abusefilter_logs/2017/2017-07.csv\n",
      "Extracting: ../data/abusefilter_logs/2017/2017-08.csv\n",
      "Extracting: ../data/abusefilter_logs/2017/2017-09.csv\n",
      "Extracting: ../data/abusefilter_logs/2017/2017-10.csv\n",
      "Extracting: ../data/abusefilter_logs/2017/2017-11.csv\n",
      "Extracting: ../data/abusefilter_logs/2017/2017-12.csv\n",
      "Extracting: ../data/abusefilter_logs/2018/2018-01.csv\n",
      "Extracting: ../data/abusefilter_logs/2018/2018-02.csv\n",
      "Extracting: ../data/abusefilter_logs/2018/2018-03.csv\n",
      "Extracting: ../data/abusefilter_logs/2018/2018-04.csv\n",
      "Extracting: ../data/abusefilter_logs/2018/2018-05.csv\n",
      "Extracting: ../data/abusefilter_logs/2018/2018-06.csv\n",
      "Extracting: ../data/abusefilter_logs/2018/2018-07.csv\n",
      "Extracting: ../data/abusefilter_logs/2018/2018-08.csv\n",
      "Extracting: ../data/abusefilter_logs/2018/2018-09.csv\n",
      "Extracting: ../data/abusefilter_logs/2018/2018-10.csv\n",
      "Extracting: ../data/abusefilter_logs/2018/2018-11.csv\n",
      "Extracting: ../data/abusefilter_logs/2018/2018-12.csv\n",
      "Extracting: ../data/abusefilter_logs/2019/2019-01.csv\n",
      "Extracting: ../data/abusefilter_logs/2019/2019-02.csv\n",
      "Extracting: ../data/abusefilter_logs/2019/2019-03.csv\n",
      "Extracting: ../data/abusefilter_logs/2019/2019-04.csv\n",
      "Extracting: ../data/abusefilter_logs/2019/2019-05.csv\n",
      "Extracting: ../data/abusefilter_logs/2019/2019-06.csv\n",
      "Extracting: ../data/abusefilter_logs/2019/2019-07.csv\n",
      "Extracting: ../data/abusefilter_logs/2019/2019-08.csv\n",
      "Extracting: ../data/abusefilter_logs/2019/2019-09.csv\n",
      "Extracting: ../data/abusefilter_logs/2019/2019-10.csv\n",
      "Extracting: ../data/abusefilter_logs/2019/2019-11.csv\n",
      "Extracting: ../data/abusefilter_logs/2019/2019-12.csv\n",
      "Extracting: ../data/abusefilter_logs/2020/2020-01.csv\n",
      "Extracting: ../data/abusefilter_logs/2020/2020-02.csv\n",
      "Extracting: ../data/abusefilter_logs/2020/2020-03.csv\n",
      "Extracting: ../data/abusefilter_logs/2020/2020-04.csv\n",
      "Extracting: ../data/abusefilter_logs/2020/2020-05.csv\n",
      "Extracting: ../data/abusefilter_logs/2020/2020-06.csv\n",
      "Extracting: ../data/abusefilter_logs/2020/2020-07.csv\n",
      "Extracting: ../data/abusefilter_logs/2020/2020-08.csv\n",
      "Extracting: ../data/abusefilter_logs/2020/2020-09.csv\n",
      "Extracting: ../data/abusefilter_logs/2020/2020-10.csv\n",
      "Extracting: ../data/abusefilter_logs/2020/2020-11.csv\n",
      "Extracting: ../data/abusefilter_logs/2020/2020-12.csv\n",
      "Extracting: ../data/abusefilter_logs/2021/2021-01.csv\n",
      "Extracting: ../data/abusefilter_logs/2021/2021-02.csv\n",
      "Extracting: ../data/abusefilter_logs/2021/2021-03.csv\n",
      "Extracting: ../data/abusefilter_logs/2021/2021-04.csv\n",
      "Extracting: ../data/abusefilter_logs/2021/2021-05.csv\n",
      "Extracting: ../data/abusefilter_logs/2021/2021-06.csv\n",
      "Extracting: ../data/abusefilter_logs/2021/2021-07.csv\n",
      "Extracting: ../data/abusefilter_logs/2021/2021-08.csv\n",
      "Extracting: ../data/abusefilter_logs/2021/2021-09.csv\n",
      "Extracting: ../data/abusefilter_logs/2021/2021-10.csv\n",
      "Extracting: ../data/abusefilter_logs/2021/2021-11.csv\n",
      "Extracting: ../data/abusefilter_logs/2021/2021-12.csv\n",
      "Extracting: ../data/abusefilter_logs/2022/2022-01.csv\n",
      "Extracting: ../data/abusefilter_logs/2022/2022-02.csv\n",
      "Extracting: ../data/abusefilter_logs/2022/2022-03.csv\n",
      "Extracting: ../data/abusefilter_logs/2022/2022-04.csv\n",
      "Extracting: ../data/abusefilter_logs/2022/2022-05.csv\n",
      "Extracting: ../data/abusefilter_logs/2022/2022-06.csv\n",
      "Extracting: ../data/abusefilter_logs/2022/2022-07.csv\n",
      "Extracting: ../data/abusefilter_logs/2022/2022-08.csv\n",
      "Extracting: ../data/abusefilter_logs/2022/2022-09.csv\n",
      "Extracting: ../data/abusefilter_logs/2022/2022-10.csv\n",
      "Extracting: ../data/abusefilter_logs/2022/2022-11.csv\n",
      "Extracting: ../data/abusefilter_logs/2022/2022-12.csv\n",
      "Extracting: ../data/abusefilter_logs/2023/2023-01.csv\n",
      "Extracting: ../data/abusefilter_logs/2023/2023-02.csv\n",
      "Extracting: ../data/abusefilter_logs/2023/2023-03.csv\n",
      "Extracting: ../data/abusefilter_logs/2023/2023-04.csv\n",
      "Extracting: ../data/abusefilter_logs/2023/2023-05.csv\n",
      "Extracting: ../data/abusefilter_logs/2023/2023-06.csv\n",
      "Extracting: ../data/abusefilter_logs/2023/2023-07.csv\n",
      "Extracting: ../data/abusefilter_logs/2023/2023-08.csv\n",
      "Extracting: ../data/abusefilter_logs/2023/2023-09.csv\n",
      "Extracting: ../data/abusefilter_logs/2023/2023-10.csv\n",
      "Extracting: ../data/abusefilter_logs/2023/2023-11.csv\n",
      "Extracting: ../data/abusefilter_logs/2023/2023-12.csv\n"
     ]
    }
   ],
   "source": [
    "# Initialize an empty list to store metrics\n",
    "abusefilter_metrics = []\n",
    "\n",
    "# iterate over stored data\n",
    "for year_month, df in file_iterator(dir_path, start_year=2009, end_year=2023, extract_cols=extracted_columns):\n",
    "    if df is not None:\n",
    "        # clean data\n",
    "        df = clean_df(df)\n",
    "        \n",
    "        # Initialise a temporary dictory to store metrics\n",
    "        metric={'month_year': year_month}\n",
    "\n",
    "        # Count all abuse filter logs\n",
    "        metric['n_af_all'] = df['logid'].nunique()\n",
    "        # Count all abuse filter creation logs\n",
    "        metric['n_af_create'] = df[df['action']=='create']['logid'].nunique()\n",
    "        # Count all abuse filter modify logs\n",
    "        metric['n_af_modify'] = df[df['action']=='modify']['logid'].nunique()\n",
    "        # Count all abuse filter hit logs\n",
    "        metric['n_af_hit'] = df[df['action']=='hit']['logid'].nunique()\n",
    "\n",
    "        # store the metric\n",
    "        abusefilter_metrics.append(metric)\n"
   ]
  },
  {
   "cell_type": "markdown",
   "metadata": {},
   "source": [
    "Convert extracted metrics to dataframe"
   ]
  },
  {
   "cell_type": "code",
   "execution_count": 19,
   "metadata": {},
   "outputs": [
    {
     "data": {
      "text/html": [
       "<div>\n",
       "<style scoped>\n",
       "    .dataframe tbody tr th:only-of-type {\n",
       "        vertical-align: middle;\n",
       "    }\n",
       "\n",
       "    .dataframe tbody tr th {\n",
       "        vertical-align: top;\n",
       "    }\n",
       "\n",
       "    .dataframe thead th {\n",
       "        text-align: right;\n",
       "    }\n",
       "</style>\n",
       "<table border=\"1\" class=\"dataframe\">\n",
       "  <thead>\n",
       "    <tr style=\"text-align: right;\">\n",
       "      <th></th>\n",
       "      <th>month_year</th>\n",
       "      <th>n_af_all</th>\n",
       "      <th>n_af_create</th>\n",
       "      <th>n_af_modify</th>\n",
       "      <th>n_af_hit</th>\n",
       "    </tr>\n",
       "  </thead>\n",
       "  <tbody>\n",
       "    <tr>\n",
       "      <th>0</th>\n",
       "      <td>2009-03</td>\n",
       "      <td>1281</td>\n",
       "      <td>0</td>\n",
       "      <td>1281</td>\n",
       "      <td>0</td>\n",
       "    </tr>\n",
       "    <tr>\n",
       "      <th>1</th>\n",
       "      <td>2009-04</td>\n",
       "      <td>492</td>\n",
       "      <td>0</td>\n",
       "      <td>492</td>\n",
       "      <td>0</td>\n",
       "    </tr>\n",
       "    <tr>\n",
       "      <th>2</th>\n",
       "      <td>2009-05</td>\n",
       "      <td>210</td>\n",
       "      <td>0</td>\n",
       "      <td>210</td>\n",
       "      <td>0</td>\n",
       "    </tr>\n",
       "    <tr>\n",
       "      <th>3</th>\n",
       "      <td>2009-06</td>\n",
       "      <td>300</td>\n",
       "      <td>0</td>\n",
       "      <td>300</td>\n",
       "      <td>0</td>\n",
       "    </tr>\n",
       "    <tr>\n",
       "      <th>4</th>\n",
       "      <td>2009-07</td>\n",
       "      <td>273</td>\n",
       "      <td>0</td>\n",
       "      <td>273</td>\n",
       "      <td>0</td>\n",
       "    </tr>\n",
       "  </tbody>\n",
       "</table>\n",
       "</div>"
      ],
      "text/plain": [
       "  month_year  n_af_all  n_af_create  n_af_modify  n_af_hit\n",
       "0    2009-03      1281            0         1281         0\n",
       "1    2009-04       492            0          492         0\n",
       "2    2009-05       210            0          210         0\n",
       "3    2009-06       300            0          300         0\n",
       "4    2009-07       273            0          273         0"
      ]
     },
     "execution_count": 19,
     "metadata": {},
     "output_type": "execute_result"
    }
   ],
   "source": [
    "abusefilter_metrics_df = pd.DataFrame(abusefilter_metrics)\n",
    "abusefilter_metrics_df.head()"
   ]
  },
  {
   "cell_type": "code",
   "execution_count": 22,
   "metadata": {},
   "outputs": [
    {
     "data": {
      "text/html": [
       "<div>\n",
       "<style scoped>\n",
       "    .dataframe tbody tr th:only-of-type {\n",
       "        vertical-align: middle;\n",
       "    }\n",
       "\n",
       "    .dataframe tbody tr th {\n",
       "        vertical-align: top;\n",
       "    }\n",
       "\n",
       "    .dataframe thead th {\n",
       "        text-align: right;\n",
       "    }\n",
       "</style>\n",
       "<table border=\"1\" class=\"dataframe\">\n",
       "  <thead>\n",
       "    <tr style=\"text-align: right;\">\n",
       "      <th></th>\n",
       "      <th>month_year</th>\n",
       "      <th>n_af_all</th>\n",
       "      <th>n_af_create</th>\n",
       "      <th>n_af_modify</th>\n",
       "      <th>n_af_hit</th>\n",
       "    </tr>\n",
       "  </thead>\n",
       "  <tbody>\n",
       "    <tr>\n",
       "      <th>173</th>\n",
       "      <td>2023-08</td>\n",
       "      <td>178</td>\n",
       "      <td>2</td>\n",
       "      <td>176</td>\n",
       "      <td>0</td>\n",
       "    </tr>\n",
       "    <tr>\n",
       "      <th>174</th>\n",
       "      <td>2023-09</td>\n",
       "      <td>116</td>\n",
       "      <td>3</td>\n",
       "      <td>113</td>\n",
       "      <td>0</td>\n",
       "    </tr>\n",
       "    <tr>\n",
       "      <th>175</th>\n",
       "      <td>2023-10</td>\n",
       "      <td>219</td>\n",
       "      <td>8</td>\n",
       "      <td>211</td>\n",
       "      <td>0</td>\n",
       "    </tr>\n",
       "    <tr>\n",
       "      <th>176</th>\n",
       "      <td>2023-11</td>\n",
       "      <td>214</td>\n",
       "      <td>4</td>\n",
       "      <td>210</td>\n",
       "      <td>0</td>\n",
       "    </tr>\n",
       "    <tr>\n",
       "      <th>177</th>\n",
       "      <td>2023-12</td>\n",
       "      <td>363</td>\n",
       "      <td>6</td>\n",
       "      <td>357</td>\n",
       "      <td>0</td>\n",
       "    </tr>\n",
       "  </tbody>\n",
       "</table>\n",
       "</div>"
      ],
      "text/plain": [
       "    month_year  n_af_all  n_af_create  n_af_modify  n_af_hit\n",
       "173    2023-08       178            2          176         0\n",
       "174    2023-09       116            3          113         0\n",
       "175    2023-10       219            8          211         0\n",
       "176    2023-11       214            4          210         0\n",
       "177    2023-12       363            6          357         0"
      ]
     },
     "execution_count": 22,
     "metadata": {},
     "output_type": "execute_result"
    }
   ],
   "source": [
    "abusefilter_metrics_df.tail()"
   ]
  },
  {
   "cell_type": "code",
   "execution_count": 23,
   "metadata": {},
   "outputs": [
    {
     "data": {
      "text/plain": [
       "n_af_hit\n",
       "0    178\n",
       "Name: count, dtype: int64"
      ]
     },
     "execution_count": 23,
     "metadata": {},
     "output_type": "execute_result"
    }
   ],
   "source": [
    "abusefilter_metrics_df['n_af_hit'].value_counts()"
   ]
  },
  {
   "cell_type": "markdown",
   "metadata": {},
   "source": [
    "## Save metrics to a local csv"
   ]
  },
  {
   "cell_type": "code",
   "execution_count": 21,
   "metadata": {},
   "outputs": [],
   "source": [
    "abusefilter_metrics_df.to_csv('../data/scraped_data_metrics/abusefilter_monthly_metrics.csv')"
   ]
  }
 ],
 "metadata": {
  "kernelspec": {
   "display_name": ".venv",
   "language": "python",
   "name": "python3"
  },
  "language_info": {
   "codemirror_mode": {
    "name": "ipython",
    "version": 3
   },
   "file_extension": ".py",
   "mimetype": "text/x-python",
   "name": "python",
   "nbconvert_exporter": "python",
   "pygments_lexer": "ipython3",
   "version": "3.11.6"
  }
 },
 "nbformat": 4,
 "nbformat_minor": 2
}
